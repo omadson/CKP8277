{
 "cells": [
  {
   "cell_type": "code",
   "execution_count": 1,
   "metadata": {},
   "outputs": [],
   "source": [
    "%matplotlib inline\n",
    "import numpy as np\n",
    "import seaborn as sns\n",
    "import pandas as pd\n",
    "import matplotlib as mpl\n",
    "import IPython.display as ipd\n",
    "import sklearn as sk\n",
    "import sklearn.metrics\n",
    "import sklearn.model_selection"
   ]
  },
  {
   "cell_type": "code",
   "execution_count": 8,
   "metadata": {},
   "outputs": [],
   "source": [
    "data = pd.read_csv('datasets/bikesharing-day.csv', index_col=0)\n",
    "\n",
    "data.dteday = pd.to_datetime(data.dteday, format='%Y-%m-%d').dt.normalize()\n",
    "data.season = data.season.astype('category')\n",
    "data.mnth = data.mnth.astype('category')\n",
    "if ('hr' in data):\n",
    "    data.hr = data.hr.astype('category')\n",
    "data.holiday = data.holiday.astype(bool)\n",
    "data.weekday = data.weekday.astype('category')\n",
    "data.workingday = data.workingday.astype(bool)\n",
    "data.weathersit = data.weathersit.astype('category')"
   ]
  },
  {
   "cell_type": "code",
   "execution_count": 21,
   "metadata": {},
   "outputs": [],
   "source": [
    "train, test = sk.model_selection.train_test_split(\n",
    "    data.loc[:, ['temp', 'hum', 'cnt']]\n",
    ")   "
   ]
  },
  {
   "cell_type": "code",
   "execution_count": 54,
   "metadata": {},
   "outputs": [],
   "source": [
    "def regression_model(Model, predict):\n",
    "    variates = train.columns.drop(predict)\n",
    "    \n",
    "    model = Model()\n",
    "    model.fit(train.loc[:, variates], train.loc[:,predict])\n",
    "    y_predicted = model.predict(test.loc[:, variates])\n",
    "    y_true = test.loc[:,'cnt']\n",
    "    return pd.Series({\n",
    "        'RMSE': np.sqrt(sk.metrics.mean_squared_error(y_true,y_predicted)),\n",
    "        'MAE': sk.metrics.mean_absolute_error(y_true,y_predicted),\n",
    "        'model': model\n",
    "    }, name=Model.__name__)"
   ]
  },
  {
   "cell_type": "code",
   "execution_count": 55,
   "metadata": {},
   "outputs": [
    {
     "data": {
      "text/plain": [
       "RMSE                                                1443.4\n",
       "MAE                                                 1182.4\n",
       "model    LinearRegression(copy_X=True, fit_intercept=Tr...\n",
       "Name: LinearRegression, dtype: object"
      ]
     },
     "execution_count": 55,
     "metadata": {},
     "output_type": "execute_result"
    }
   ],
   "source": [
    "import sklearn.linear_model\n",
    "regression_model(sk.linear_model.LinearRegression, 'cnt')"
   ]
  }
 ],
 "metadata": {
  "kernelspec": {
   "display_name": "Python 3",
   "language": "python",
   "name": "python3"
  },
  "language_info": {
   "codemirror_mode": {
    "name": "ipython",
    "version": 3
   },
   "file_extension": ".py",
   "mimetype": "text/x-python",
   "name": "python",
   "nbconvert_exporter": "python",
   "pygments_lexer": "ipython3",
   "version": "3.6.6"
  }
 },
 "nbformat": 4,
 "nbformat_minor": 2
}
