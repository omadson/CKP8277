{
 "cells": [
  {
   "cell_type": "code",
   "execution_count": 1,
   "metadata": {},
   "outputs": [],
   "source": [
    "%matplotlib inline\n",
    "import numpy as np\n",
    "import seaborn as sns\n",
    "import pandas as pd\n",
    "import matplotlib as mpl\n",
    "import IPython.display as ipd\n",
    "import sklearn as sk\n",
    "import sklearn.metrics\n",
    "import sklearn.model_selection\n",
    "import sklearn.preprocessing\n",
    "import sklearn.compose"
   ]
  },
  {
   "cell_type": "code",
   "execution_count": 2,
   "metadata": {},
   "outputs": [],
   "source": [
    "data = pd.read_csv('datasets/bikesharing-day.csv')\n",
    "\n",
    "data.dteday = pd.to_datetime(data.dteday, format='%Y-%m-%d').dt.normalize()\n",
    "data.season = data.season.astype('category')\n",
    "data.mnth = data.mnth.astype('category')\n",
    "data['day'] = data.dteday.dt.dayofyear\n",
    "if ('hr' in data):\n",
    "    data.hr = data.hr.astype('category')\n",
    "data.weekday = data.weekday.astype('category')\n",
    "data.weathersit = data.weathersit.astype('category')\n",
    "\n",
    "data.cnt = data.cnt.astype(float)\n",
    "data.instant = data.instant.astype(float)"
   ]
  },
  {
   "cell_type": "code",
   "execution_count": 3,
   "metadata": {},
   "outputs": [],
   "source": [
    "columns = ['instant','day','yr', 'season','weekday','holiday','temp','hum','cnt']\n",
    "# columns = ['instant','cnt']\n",
    "projected_data = data.loc[:, columns]\n",
    "train, test = sk.model_selection.train_test_split(projected_data)\n",
    "\n",
    "ct = sk.compose.ColumnTransformer([\n",
    "    ('col',sk.preprocessing.OneHotEncoder(categories='auto'),[\n",
    "        'season', 'weekday'\n",
    "    ])\n",
    "], remainder='passthrough')"
   ]
  },
  {
   "cell_type": "code",
   "execution_count": 13,
   "metadata": {},
   "outputs": [],
   "source": [
    "ss = sk.preprocessing.StandardScaler()\n",
    "def regression_model(model, predict, param_grid=None, transform=True):\n",
    "    print(f'Start {type(model).__name__}')\n",
    "    variates = train.columns.drop(predict).drop('instant')\n",
    "    \n",
    "    trainX = train.loc[:, variates]\n",
    "    trainy = train.loc[:, [predict]]\n",
    "\n",
    "    testX = test.loc[:, variates]\n",
    "    testy = test.loc[:, [predict]]\n",
    "    \n",
    "    if transform:\n",
    "        #ct.fit(projected_data.loc[:,variates]);\n",
    "        #trainX = ct.transform(trainX)\n",
    "        #testX = ct.transform(testX)\n",
    "        trainy = ss.fit_transform(trainy)\n",
    "    \n",
    "    if param_grid:\n",
    "        rgs = sk.model_selection.RandomizedSearchCV(model, param_distributions=param_grid, cv=10, n_iter=4, n_jobs=-1, verbose=4)\n",
    "        rgs.fit(trainX, trainy.ravel())\n",
    "    else:\n",
    "        model.fit(trainX,trainy.ravel())\n",
    "        \n",
    "    \n",
    "    predictedy = ss.inverse_transform((model if not param_grid else rgs).predict(testX))\n",
    "    print(f'Done {type(model).__name__}')\n",
    "    return pd.Series({\n",
    "        'RMSE': np.sqrt(sk.metrics.mean_squared_error(testy,predictedy)),\n",
    "        'MAE': sk.metrics.mean_absolute_error(testy,predictedy),\n",
    "        'model': model if not param_grid else rgs\n",
    "    }, name=type(model).__name__)"
   ]
  },
  {
   "cell_type": "code",
   "execution_count": 14,
   "metadata": {},
   "outputs": [],
   "source": [
    "param_dist_svr = {'C': np.logspace(-1, 1, 5),\n",
    "                  'gamma': np.logspace(-1, 1, 5),\n",
    "                  'kernel': ['rbf','linear']};"
   ]
  },
  {
   "cell_type": "code",
   "execution_count": 15,
   "metadata": {},
   "outputs": [
    {
     "name": "stdout",
     "output_type": "stream",
     "text": [
      "Start LinearRegression\n",
      "Done LinearRegression\n",
      "Start SVR\n",
      "Fitting 2 folds for each of 2 candidates, totalling 4 fits\n"
     ]
    },
    {
     "name": "stderr",
     "output_type": "stream",
     "text": [
      "[Parallel(n_jobs=-1)]: Using backend LokyBackend with 4 concurrent workers.\n",
      "[Parallel(n_jobs=-1)]: Done   4 out of   4 | elapsed:   12.8s finished\n"
     ]
    },
    {
     "name": "stdout",
     "output_type": "stream",
     "text": [
      "Done SVR\n",
      "Start MLPRegressor\n",
      "Done MLPRegressor\n",
      "Start GradientBoostingRegressor\n",
      "Done GradientBoostingRegressor\n"
     ]
    },
    {
     "data": {
      "text/html": [
       "<div>\n",
       "<style scoped>\n",
       "    .dataframe tbody tr th:only-of-type {\n",
       "        vertical-align: middle;\n",
       "    }\n",
       "\n",
       "    .dataframe tbody tr th {\n",
       "        vertical-align: top;\n",
       "    }\n",
       "\n",
       "    .dataframe thead th {\n",
       "        text-align: right;\n",
       "    }\n",
       "</style>\n",
       "<table border=\"1\" class=\"dataframe\">\n",
       "  <thead>\n",
       "    <tr style=\"text-align: right;\">\n",
       "      <th></th>\n",
       "      <th>RMSE</th>\n",
       "      <th>MAE</th>\n",
       "      <th>model</th>\n",
       "    </tr>\n",
       "  </thead>\n",
       "  <tbody>\n",
       "    <tr>\n",
       "      <th>GradientBoostingRegressor</th>\n",
       "      <td>658.343678</td>\n",
       "      <td>490.276593</td>\n",
       "      <td>([DecisionTreeRegressor(criterion='friedman_ms...</td>\n",
       "    </tr>\n",
       "    <tr>\n",
       "      <th>LinearRegression</th>\n",
       "      <td>856.064397</td>\n",
       "      <td>656.147894</td>\n",
       "      <td>LinearRegression(copy_X=True, fit_intercept=Tr...</td>\n",
       "    </tr>\n",
       "    <tr>\n",
       "      <th>SVR</th>\n",
       "      <td>869.672463</td>\n",
       "      <td>653.330906</td>\n",
       "      <td>RandomizedSearchCV(cv=2, error_score='raise-de...</td>\n",
       "    </tr>\n",
       "    <tr>\n",
       "      <th>MLPRegressor</th>\n",
       "      <td>1249.415020</td>\n",
       "      <td>957.773351</td>\n",
       "      <td>MLPRegressor(activation='relu', alpha=0.0001, ...</td>\n",
       "    </tr>\n",
       "  </tbody>\n",
       "</table>\n",
       "</div>"
      ],
      "text/plain": [
       "                                  RMSE         MAE  \\\n",
       "GradientBoostingRegressor   658.343678  490.276593   \n",
       "LinearRegression            856.064397  656.147894   \n",
       "SVR                         869.672463  653.330906   \n",
       "MLPRegressor               1249.415020  957.773351   \n",
       "\n",
       "                                                                       model  \n",
       "GradientBoostingRegressor  ([DecisionTreeRegressor(criterion='friedman_ms...  \n",
       "LinearRegression           LinearRegression(copy_X=True, fit_intercept=Tr...  \n",
       "SVR                        RandomizedSearchCV(cv=2, error_score='raise-de...  \n",
       "MLPRegressor               MLPRegressor(activation='relu', alpha=0.0001, ...  "
      ]
     },
     "execution_count": 15,
     "metadata": {},
     "output_type": "execute_result"
    }
   ],
   "source": [
    "import sklearn.linear_model\n",
    "import sklearn.svm\n",
    "import sklearn.neural_network\n",
    "from sklearn.ensemble import GradientBoostingRegressor\n",
    "\n",
    "\n",
    "models = pd.DataFrame([regression_model(m, 'cnt', transform=True, param_grid=pg) for m,pg in [\n",
    "    (sk.linear_model.LinearRegression(),None),\n",
    "    (sk.svm.SVR(), param_dist_svr),\n",
    "    #(sk.neural_network.MLPRegressor(solver='lbfgs', hidden_layer_sizes=(50,50)),None),\n",
    "    (GradientBoostingRegressor(),None),\n",
    "]]).sort_values('RMSE')\n",
    "models"
   ]
  },
  {
   "cell_type": "code",
   "execution_count": 18,
   "metadata": {},
   "outputs": [
    {
     "data": {
      "text/plain": [
       "[<matplotlib.lines.Line2D at 0x21d832bd1d0>]"
      ]
     },
     "execution_count": 18,
     "metadata": {},
     "output_type": "execute_result"
    },
    {
     "data": {
      "image/png": "[encoded data removed]",
      "text/plain": [
       "<Figure size 432x288 with 1 Axes>"
      ]
     },
     "metadata": {
      "needs_background": "light"
     },
     "output_type": "display_data"
    }
   ],
   "source": [
    "ax = projected_data.plot.scatter(x='instant',y='cnt')\n",
    "ax.plot(projected_data.loc[:,'instant'], ss.inverse_transform(models.loc['LinearRegression','model'].predict(projected_data.drop(columns=['instant','cnt']))), color='red', linewidth=3)"
   ]
  }
 ],
 "metadata": {
  "kernelspec": {
   "display_name": "Python 3",
   "language": "python",
   "name": "python3"
  },
  "language_info": {
   "codemirror_mode": {
    "name": "ipython",
    "version": 3
   },
   "file_extension": ".py",
   "mimetype": "text/x-python",
   "name": "python",
   "nbconvert_exporter": "python",
   "pygments_lexer": "ipython3",
   "version": "3.6.7"
  }
 },
 "nbformat": 4,
 "nbformat_minor": 2
}
