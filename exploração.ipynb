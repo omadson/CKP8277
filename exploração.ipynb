{
 "cells": [
  {
   "cell_type": "code",
   "execution_count": 1,
   "metadata": {},
   "outputs": [],
   "source": [
    "%matplotlib inline\n",
    "import numpy as np\n",
    "import seaborn as sns\n",
    "import pandas as pd\n",
    "import matplotlib as mpl\n",
    "import IPython.display as ipd\n",
    "import sklearn as sk\n",
    "import sklearn.metrics\n",
    "import sklearn.model_selection\n",
    "import sklearn.preprocessing\n",
    "import sklearn.compose"
   ]
  },
  {
   "cell_type": "code",
   "execution_count": 2,
   "metadata": {},
   "outputs": [],
   "source": [
    "data = pd.read_csv('datasets/bikesharing-day.csv', index_col=0)\n",
    "\n",
    "data.dteday = pd.to_datetime(data.dteday, format='%Y-%m-%d').dt.normalize()\n",
    "data.season = data.season.astype('category')\n",
    "data.mnth = data.mnth.astype('category')\n",
    "#data['day'] = data.dteday.dt.day.astype('category')\n",
    "if ('hr' in data):\n",
    "    data.hr = data.hr.astype('category')\n",
    "#data.holiday = data.holiday.astype(bool)\n",
    "data.weekday = data.weekday.astype('category')\n",
    "#data.workingday = data.workingday.astype(bool)\n",
    "data.weathersit = data.weathersit.astype('category')"
   ]
  },
  {
   "cell_type": "code",
   "execution_count": 3,
   "metadata": {},
   "outputs": [],
   "source": [
    "columns = ['season','weekday','holiday','temp','hum','cnt']\n",
    "projected_data = data.loc[:, columns]\n",
    "train, test = sk.model_selection.train_test_split(projected_data)\n",
    "\n",
    "ct = sk.compose.ColumnTransformer([\n",
    "    ('col',sk.preprocessing.OneHotEncoder(categories='auto'),[\n",
    "        'season', 'weekday'\n",
    "    ])\n",
    "], remainder='passthrough')"
   ]
  },
  {
   "cell_type": "code",
   "execution_count": 4,
   "metadata": {},
   "outputs": [],
   "source": [
    "def regression_model(model, predict, param_grid, transform=True):\n",
    "    variates = train.columns.drop(predict)\n",
    "    \n",
    "    trainX = train.loc[:, variates]\n",
    "    trainy = train.loc[:,predict]\n",
    "    \n",
    "    # k-fold crossvalidation\n",
    "    rgs = sk.model_selection.RandomizedSearchCV(model, param_distributions=param_grid, cv=5, n_iter=10, n_jobs=-1, verbose=4)\n",
    "    rgs.fit(trainX, trainy)\n",
    "    \n",
    "    print(rgs)\n",
    "    testX = test.loc[:, variates]\n",
    "    testy = test.loc[:,predict]\n",
    "    \n",
    "    if transform:\n",
    "        ct.fit(projected_data.loc[:,variates]);\n",
    "        trainX = ct.transform(trainX)\n",
    "        testX = ct.transform(testX)\n",
    "#     rgs = model(**gs.best_params_)\n",
    "#     rgs.fit(trainX,trainy)\n",
    "    predictedy = rgs.predict(testX)\n",
    "    return pd.Series({\n",
    "        'RMSE': np.sqrt(sk.metrics.mean_squared_error(testy,predictedy)),\n",
    "        'MAE': sk.metrics.mean_absolute_error(testy,predictedy),\n",
    "        'model': model\n",
    "    }, name=type(model).__name__)"
   ]
  },
  {
   "cell_type": "code",
   "execution_count": 5,
   "metadata": {},
   "outputs": [],
   "source": [
    "param_dist_svr = {'C': np.logspace(-2, 10, 5),\n",
    "                  'gamma': np.logspace(-9, 3, 5),\n",
    "                  'kernel': ['rbf','linear']};"
   ]
  },
  {
   "cell_type": "code",
   "execution_count": null,
   "metadata": {},
   "outputs": [
    {
     "name": "stdout",
     "output_type": "stream",
     "text": [
      "Fitting 5 folds for each of 10 candidates, totalling 50 fits\n"
     ]
    },
    {
     "name": "stderr",
     "output_type": "stream",
     "text": [
      "[Parallel(n_jobs=-1)]: Using backend LokyBackend with 4 concurrent workers.\n",
      "[Parallel(n_jobs=-1)]: Done  17 tasks      | elapsed: 39.5min\n"
     ]
    }
   ],
   "source": [
    "import sklearn.linear_model\n",
    "import sklearn.svm\n",
    "import sklearn.neural_network\n",
    "\n",
    "\n",
    "# pd.DataFrame([regression_model(m, 'cnt', transform=False) for m in [\n",
    "#     sk.linear_model.LinearRegression(),\n",
    "#     sk.svm.SVR(gamma='scale'),\n",
    "#     sk.neural_network.MLPRegressor(solver='lbfgs')\n",
    "# ]]).drop(columns='model').sort_values('RMSE')\n",
    "\n",
    "\n",
    "pd.DataFrame([regression_model(m, 'cnt', p, transform=False) for (m,p) in [\n",
    "    (sk.svm.NuSVR(),param_dist_svr)\n",
    "]]).drop(columns='model').sort_values('RMSE')\n",
    "# {'C': [0.001, 0.01, 0.1, 1, 10],\n",
    "#                                'gamma': [0.001, 0.01, 0.1, 1],\n",
    "#                                'kernel': ['rbf']}"
   ]
  },
  {
   "cell_type": "code",
   "execution_count": 7,
   "metadata": {},
   "outputs": [
    {
     "data": {
      "text/plain": [
       "{'C': array([1.e-02, 1.e+01, 1.e+04, 1.e+07, 1.e+10]),\n",
       " 'gamma': array([1.e-09, 1.e-06, 1.e-03, 1.e+00, 1.e+03]),\n",
       " 'kernel': ['rbf', 'linear']}"
      ]
     },
     "execution_count": 7,
     "metadata": {},
     "output_type": "execute_result"
    }
   ],
   "source": [
    "pd.DataFrame([regression_model(m, 'cnt', param_dist_svc, transform=False) for m in [\n",
    "    sk.svm.SVR()\n",
    "]]).drop(columns='model').sort_values('RMSE')"
   ]
  },
  {
   "cell_type": "code",
   "execution_count": null,
   "metadata": {},
   "outputs": [],
   "source": []
  }
 ],
 "metadata": {
  "kernelspec": {
   "display_name": "Python 3",
   "language": "python",
   "name": "python3"
  },
  "language_info": {
   "codemirror_mode": {
    "name": "ipython",
    "version": 3
   },
   "file_extension": ".py",
   "mimetype": "text/x-python",
   "name": "python",
   "nbconvert_exporter": "python",
   "pygments_lexer": "ipython3",
   "version": "3.5.2"
  }
 },
 "nbformat": 4,
 "nbformat_minor": 2
}
