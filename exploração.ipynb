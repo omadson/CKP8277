{
 "cells": [
  {
   "cell_type": "code",
   "execution_count": 212,
   "metadata": {},
   "outputs": [],
   "source": [
    "%matplotlib inline\n",
    "import numpy as np\n",
    "import seaborn as sns\n",
    "import pandas as pd\n",
    "import matplotlib as mpl\n",
    "import IPython.display as ipd\n",
    "import sklearn as sk\n",
    "import sklearn.metrics\n",
    "import sklearn.model_selection\n",
    "import sklearn.preprocessing\n",
    "import sklearn.compose"
   ]
  },
  {
   "cell_type": "code",
   "execution_count": 213,
   "metadata": {},
   "outputs": [],
   "source": [
    "data = pd.read_csv('datasets/bikesharing-day.csv', index_col=0)\n",
    "\n",
    "data.dteday = pd.to_datetime(data.dteday, format='%Y-%m-%d').dt.normalize()\n",
    "data.season = data.season.astype('category')\n",
    "data.mnth = data.mnth.astype('category')\n",
    "#data['day'] = data.dteday.dt.day.astype('category')\n",
    "if ('hr' in data):\n",
    "    data.hr = data.hr.astype('category')\n",
    "#data.holiday = data.holiday.astype(bool)\n",
    "data.weekday = data.weekday.astype('category')\n",
    "#data.workingday = data.workingday.astype(bool)\n",
    "data.weathersit = data.weathersit.astype('category')"
   ]
  },
  {
   "cell_type": "code",
   "execution_count": 219,
   "metadata": {},
   "outputs": [],
   "source": [
    "columns = ['season','weekday','holiday','temp','hum','cnt']\n",
    "projected_data = data.loc[:, columns]\n",
    "train, test = sk.model_selection.train_test_split(projected_data)\n",
    "\n",
    "ct = sk.compose.ColumnTransformer([\n",
    "    ('col',sk.preprocessing.OneHotEncoder(categories='auto'),[\n",
    "        'season', 'weekday'\n",
    "    ])\n",
    "], remainder='passthrough')"
   ]
  },
  {
   "cell_type": "code",
   "execution_count": 225,
   "metadata": {},
   "outputs": [],
   "source": [
    "def regression_model(model, predict, transform=True):\n",
    "    variates = train.columns.drop(predict)\n",
    "    \n",
    "    trainX = train.loc[:, variates]\n",
    "    trainy = train.loc[:,predict]\n",
    "    \n",
    "    testX = test.loc[:, variates]\n",
    "    testy = test.loc[:,predict]\n",
    "    \n",
    "    if transform:\n",
    "        ct.fit(projected_data.loc[:,variates]);\n",
    "        trainX = ct.transform(trainX)\n",
    "        testX = ct.transform(testX)\n",
    "    \n",
    "    model.fit(trainX,trainy)\n",
    "    predictedy = model.predict(testX)\n",
    "    return pd.Series({\n",
    "        'RMSE': np.sqrt(sk.metrics.mean_squared_error(testy,predictedy)),\n",
    "        'MAE': sk.metrics.mean_absolute_error(testy,predictedy),\n",
    "        'model': model\n",
    "    }, name=type(model).__name__)"
   ]
  },
  {
   "cell_type": "code",
   "execution_count": 236,
   "metadata": {},
   "outputs": [
    {
     "data": {
      "text/html": [
       "<div>\n",
       "<style scoped>\n",
       "    .dataframe tbody tr th:only-of-type {\n",
       "        vertical-align: middle;\n",
       "    }\n",
       "\n",
       "    .dataframe tbody tr th {\n",
       "        vertical-align: top;\n",
       "    }\n",
       "\n",
       "    .dataframe thead th {\n",
       "        text-align: right;\n",
       "    }\n",
       "</style>\n",
       "<table border=\"1\" class=\"dataframe\">\n",
       "  <thead>\n",
       "    <tr style=\"text-align: right;\">\n",
       "      <th></th>\n",
       "      <th>RMSE</th>\n",
       "      <th>MAE</th>\n",
       "    </tr>\n",
       "  </thead>\n",
       "  <tbody>\n",
       "    <tr>\n",
       "      <th>LinearRegression</th>\n",
       "      <td>1335.897178</td>\n",
       "      <td>1110.731191</td>\n",
       "    </tr>\n",
       "    <tr>\n",
       "      <th>MLPRegressor</th>\n",
       "      <td>1375.005500</td>\n",
       "      <td>1137.088230</td>\n",
       "    </tr>\n",
       "    <tr>\n",
       "      <th>SVR</th>\n",
       "      <td>1944.147090</td>\n",
       "      <td>1564.246169</td>\n",
       "    </tr>\n",
       "  </tbody>\n",
       "</table>\n",
       "</div>"
      ],
      "text/plain": [
       "                         RMSE          MAE\n",
       "LinearRegression  1335.897178  1110.731191\n",
       "MLPRegressor      1375.005500  1137.088230\n",
       "SVR               1944.147090  1564.246169"
      ]
     },
     "execution_count": 236,
     "metadata": {},
     "output_type": "execute_result"
    }
   ],
   "source": [
    "import sklearn.linear_model\n",
    "import sklearn.svm\n",
    "import sklearn.neural_network\n",
    "\n",
    "\n",
    "pd.DataFrame([regression_model(m, 'cnt', transform=False) for m in [\n",
    "    sk.linear_model.LinearRegression(),\n",
    "    sk.svm.SVR(gamma='scale'),\n",
    "    sk.neural_network.MLPRegressor(solver='lbfgs')\n",
    "]]).drop(columns='model').sort_values('RMSE')"
   ]
  }
 ],
 "metadata": {
  "kernelspec": {
   "display_name": "Python 3",
   "language": "python",
   "name": "python3"
  },
  "language_info": {
   "codemirror_mode": {
    "name": "ipython",
    "version": 3
   },
   "file_extension": ".py",
   "mimetype": "text/x-python",
   "name": "python",
   "nbconvert_exporter": "python",
   "pygments_lexer": "ipython3",
   "version": "3.6.6"
  }
 },
 "nbformat": 4,
 "nbformat_minor": 2
}
